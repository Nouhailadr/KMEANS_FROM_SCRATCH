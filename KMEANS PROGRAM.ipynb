{
 "cells": [
  {
   "cell_type": "markdown",
   "id": "fa3e32e0",
   "metadata": {},
   "source": [
    "# KMEANS CLUSTERING USING PYTHON"
   ]
  },
  {
   "cell_type": "code",
   "execution_count": 2,
   "id": "6556d5a8",
   "metadata": {},
   "outputs": [],
   "source": [
    "import numpy as np\n",
    "import matplotlib.pyplot as plt"
   ]
  },
  {
   "cell_type": "markdown",
   "id": "91f5289c",
   "metadata": {},
   "source": [
    "# Fonction distance() et return_list()"
   ]
  },
  {
   "cell_type": "markdown",
   "id": "75c1ab88",
   "metadata": {},
   "source": [
    "-The distance() function returns the distance between a center and a point\n",
    "\n",
    "-The return_list() function returns a list of points"
   ]
  },
  {
   "cell_type": "code",
   "execution_count": 3,
   "id": "5c5dcf9f",
   "metadata": {},
   "outputs": [],
   "source": [
    "def distance(center, point):\n",
    "    return np.linalg.norm(center - point)\n",
    "\n",
    "\n",
    "def return_list(point, x):\n",
    "    list_1 = []\n",
    "    for m in point:\n",
    "        list_1.append(m[x])\n",
    "    return list_1"
   ]
  },
  {
   "cell_type": "markdown",
   "id": "b7019ba2",
   "metadata": {},
   "source": [
    "# Table of points"
   ]
  },
  {
   "cell_type": "markdown",
   "id": "c926aaa3",
   "metadata": {},
   "source": [
    "This is the table we'll be clustering."
   ]
  },
  {
   "cell_type": "code",
   "execution_count": 5,
   "id": "0d5255fd",
   "metadata": {},
   "outputs": [
    {
     "data": {
      "text/plain": [
       "<matplotlib.collections.PathCollection at 0x1ea0666b520>"
      ]
     },
     "execution_count": 5,
     "metadata": {},
     "output_type": "execute_result"
    },
    {
     "data": {
      "image/png": "[encoded data removed]",
      "text/plain": [
       "<Figure size 640x480 with 1 Axes>"
      ]
     },
     "metadata": {},
     "output_type": "display_data"
    }
   ],
   "source": [
    "points = np.array([[1, 3],\n",
    "              [3, 3],\n",
    "              [4, 3],\n",
    "              [5, 3],\n",
    "              [1, 2],\n",
    "              [4, 2],\n",
    "              [1, 1],\n",
    "              [2, 1]])\n",
    "\n",
    "plt.scatter(points[ :,0], points[ :,1])"
   ]
  },
  {
   "cell_type": "markdown",
   "id": "4de6f4b4",
   "metadata": {},
   "source": [
    "# LE CHOIX DES CENTRES"
   ]
  },
  {
   "cell_type": "markdown",
   "id": "ab0e94f6",
   "metadata": {},
   "source": [
    "On choisit des centres aleatoirement"
   ]
  },
  {
   "cell_type": "code",
   "execution_count": 6,
   "id": "08ad897e",
   "metadata": {},
   "outputs": [
    {
     "name": "stdout",
     "output_type": "stream",
     "text": [
      "Initial Centroids: [1 1] [2 1]\n"
     ]
    }
   ],
   "source": [
    "centre1 = points[6]\n",
    "centre2 = points[7]\n",
    "\n",
    "classe1 = np.empty((0, 2), int)\n",
    "classe2 = np.empty((0, 2), int)\n",
    "\n",
    "print(\"Initial Centroids:\", centre1, centre2)"
   ]
  },
  {
   "cell_type": "markdown",
   "id": "52125e99",
   "metadata": {},
   "source": [
    "# CLUSTERING"
   ]
  },
  {
   "cell_type": "markdown",
   "id": "1ce2eede",
   "metadata": {},
   "source": [
    "Le while est pour effectuer la classification en utilisant la fonction distance() qui calcule la distance entre un centre et un point. "
   ]
  },
  {
   "cell_type": "markdown",
   "id": "2b4a19d5",
   "metadata": {},
   "source": [
    "Le for est pour effectuer les calculs. Si un point est plus pres de centre1 qu'il ne l'est du centre2, on l'assigne a la classe 1 sinon, on l'assigne a la classe 2"
   ]
  },
  {
   "cell_type": "code",
   "execution_count": 10,
   "id": "38c44072",
   "metadata": {},
   "outputs": [
    {
     "name": "stdout",
     "output_type": "stream",
     "text": [
      "\n",
      "\n",
      "CLASSIFICATION EFFECTUEE AVEC SUCCES \n",
      "CENTRES: [1.25 1.75] [4.   2.75] \n",
      "\n",
      "CLASSE 1:\n",
      " [[1 3]\n",
      " [1 2]\n",
      " [1 1]\n",
      " [2 1]\n",
      " [1 3]\n",
      " [1 2]\n",
      " [1 1]\n",
      " [2 1]\n",
      " [1 3]\n",
      " [1 2]\n",
      " [1 1]\n",
      " [2 1]\n",
      " [1 3]\n",
      " [1 2]\n",
      " [1 1]\n",
      " [2 1]] \n",
      "\n",
      "CLASSE 2:\n",
      " [[3 3]\n",
      " [4 3]\n",
      " [5 3]\n",
      " [4 2]\n",
      " [3 3]\n",
      " [4 3]\n",
      " [5 3]\n",
      " [4 2]\n",
      " [3 3]\n",
      " [4 3]\n",
      " [5 3]\n",
      " [4 2]\n",
      " [3 3]\n",
      " [4 3]\n",
      " [5 3]\n",
      " [4 2]]\n"
     ]
    },
    {
     "data": {
      "image/png": "[encoded data removed]",
      "text/plain": [
       "<Figure size 640x480 with 1 Axes>"
      ]
     },
     "metadata": {},
     "output_type": "display_data"
    }
   ],
   "source": [
    "while True:\n",
    "    for i in points:\n",
    "        distcentre1 = distance(centre1, i)  #calcul of distance between a point i and the first center \n",
    "        distcentre2 = distance(centre2, i) \n",
    "        if distcentre1 < distcentre2: \n",
    "            classe1 = np.append(classe1, [i], axis=0) #the point i is added to classe1 (first class)\n",
    "        else:\n",
    "            classe2 = np.append(classe2, [i], axis=0) \n",
    "\n",
    "    new_c1 = np.mean(classe1, axis=0)  #the new center of the first class is the average value of the points of the class\n",
    "    new_c2 = np.mean(classe2, axis=0)\n",
    "\n",
    "    #if the new centers (avg value of each class) are equal to the old ones, the clustering is done!\n",
    "    if np.array_equal(new_c1, centre1) and np.array_equal(new_c2, centre2):\n",
    "        print(\"\\n\\nCLASSIFICATION EFFECTUEE AVEC SUCCES\",\n",
    "              \"\\nCENTRES:\", centre1, centre2,\n",
    "              \"\\n\\nCLASSE 1:\\n\", classe1, \"\\n\\nCLASSE 2:\\n\", classe2)\n",
    "\n",
    "        plt.plot(centre1[0], centre1[1], color=\"red\", marker=(5, 1), markersize=12)\n",
    "        plt.annotate(\"Centre1\", xy=(centre1[0], centre1[1]))\n",
    "        plt.plot(return_list(classe1, 0), return_list(classe1, 1), \"ro\")\n",
    "\n",
    "        plt.plot(centre2[0], centre2[1], color=\"blue\", marker=(5, 1), markersize=12)\n",
    "        plt.annotate(\"Centre2\", xy=(centre2[0], centre2[1]))\n",
    "        plt.plot(return_list(classe2, 0), return_list(classe2, 1), \"bo\")\n",
    "        plt.show()\n",
    "        break\n",
    "    else:\n",
    "        #if the new centers are not equal to the old ones, then we give the old center the value of the new one\n",
    "        centre1 = new_c1   \n",
    "        centre2 = new_c2\n",
    "        print(\"\\n\\nLES CENTRES ONT CHANGE:\", centre1, centre2,\n",
    "              \"\\n\\nCLASSE 1:\\n\", classe1, \"\\n\\nCLASSE 2:\\n\", classe2, \"\\n\")\n",
    "\n",
    "    classe1 = np.empty((0, 2), int)\n",
    "    classe2 = np.empty((0, 2), int)"
   ]
  },
  {
   "cell_type": "code",
   "execution_count": null,
   "id": "9b6a4388",
   "metadata": {},
   "outputs": [],
   "source": []
  }
 ],
 "metadata": {
  "kernelspec": {
   "display_name": "Python 3 (ipykernel)",
   "language": "python",
   "name": "python3"
  },
  "language_info": {
   "codemirror_mode": {
    "name": "ipython",
    "version": 3
   },
   "file_extension": ".py",
   "mimetype": "text/x-python",
   "name": "python",
   "nbconvert_exporter": "python",
   "pygments_lexer": "ipython3",
   "version": "3.9.13"
  }
 },
 "nbformat": 4,
 "nbformat_minor": 5
}
